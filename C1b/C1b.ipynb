ecuacion = input("ingrese la ecuacion: ")
stack=[]
corchetes=[]
for i in ecuacion:
    stack.append(i)
for i in range(0,len(stack)):
    if (stack[i]=="("):
        corchetes.append(stack[i])
    if (stack[i]=="{"):
        corchetes.append(stack[i])
    if (stack[i]=="["):
        corchetes.append(stack[i])
    if (stack[i]==")"):
        corchetes.append(stack[i])       
    if (stack[i]=="]"):
        corchetes.append(stack[i])
    if (stack[i]=="}"):
        corchetes.append(stack[i])
verificacion1=0
verificacion2=0
verificacion3=0
for i in range(0,len(corchetes)):
    if (corchetes[i]=="("):
        verificacion1=verificacion1+1
    if (corchetes[i]=="{"):
        verificacion2=verificacion2+1
    if (corchetes[i]=="["):
        verificacion3=verificacion3+1
    if (corchetes[i]==")"):
        verificacion1=verificacion1-1
    if (corchetes[i]=="}"):
        verificacion2=verificacion2-1
    if (corchetes[i]=="]"):
        verificacion3=verificacion3-1
      
if (verificacion1==0 and verificacion2==0 and verificacion3==0):
    print("los parentesis estan balanceados")
else: 
    print("los parentesis no estan balanceados")
